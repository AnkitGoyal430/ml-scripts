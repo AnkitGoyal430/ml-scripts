{
  "nbformat": 4,
  "nbformat_minor": 0,
  "metadata": {
    "colab": {
      "name": "S2T.ipynb",
      "provenance": [],
      "private_outputs": true,
      "collapsed_sections": [],
      "machine_shape": "hm",
      "include_colab_link": true
    },
    "kernelspec": {
      "name": "python3",
      "display_name": "Python 3"
    },
    "accelerator": "GPU"
  },
  "cells": [
    {
      "cell_type": "markdown",
      "metadata": {
        "id": "view-in-github",
        "colab_type": "text"
      },
      "source": [
        "<a href=\"https://colab.research.google.com/github/AnkitGoyal430/ml-scripts/blob/master/S2T.ipynb\" target=\"_parent\"><img src=\"https://colab.research.google.com/assets/colab-badge.svg\" alt=\"Open In Colab\"/></a>"
      ]
    },
    {
      "cell_type": "code",
      "metadata": {
        "id": "u_5pV_8bTNqR",
        "colab_type": "code",
        "colab": {}
      },
      "source": [
        "\n",
        "import os\n",
        "import librosa\n",
        "import IPython.display as ipd\n",
        "import numpy as np\n",
        "import pandas as pd\n",
        "from scipy.io import wavfile\n",
        "import matplotlib.pyplot as plt\n",
        "import warnings\n",
        "import tables\n",
        "warnings.filterwarnings(\"ignore\")\n"
      ],
      "execution_count": 0,
      "outputs": []
    },
    {
      "cell_type": "code",
      "metadata": {
        "id": "FMzeG8dnThMT",
        "colab_type": "code",
        "colab": {}
      },
      "source": [
        "\n",
        "from google.colab import drive\n",
        "drive.mount('/content/gdrive')\n"
      ],
      "execution_count": 0,
      "outputs": []
    },
    {
      "cell_type": "code",
      "metadata": {
        "id": "CdYBk33QEBVN",
        "colab_type": "code",
        "colab": {}
      },
      "source": [
        "!mkdir /content/MLdataset\n",
        "!mkdir /content/MLdataset/audio"
      ],
      "execution_count": 0,
      "outputs": []
    },
    {
      "cell_type": "code",
      "metadata": {
        "id": "Itoj1prrUCVl",
        "colab_type": "code",
        "colab": {}
      },
      "source": [
        "!wget http://download.tensorflow.org/data/speech_commands_v0.01.tar.gz"
      ],
      "execution_count": 0,
      "outputs": []
    },
    {
      "cell_type": "code",
      "metadata": {
        "id": "kXjhgu5NVXQP",
        "colab_type": "code",
        "colab": {}
      },
      "source": [
        " %%time\n",
        " !tar xvzf \"/content/speech_commands_v0.01.tar.gz\" -C \"/content/MLdataset/audio\""
      ],
      "execution_count": 0,
      "outputs": []
    },
    {
      "cell_type": "code",
      "metadata": {
        "id": "k77M37lUWEQR",
        "colab_type": "code",
        "colab": {}
      },
      "source": [
        "# !du -h -s \"/content/gdrive/My Drive/MLData\""
      ],
      "execution_count": 0,
      "outputs": []
    },
    {
      "cell_type": "code",
      "metadata": {
        "id": "_GFwm4D_WJkk",
        "colab_type": "code",
        "colab": {}
      },
      "source": [
        "audioPath = \"/content/MLdataset/audio/\"\n",
        "samples, sample_rate = librosa.load(audioPath+\"bed/0b09edd3_nohash_0.wav\", \n",
        "                                    sr=16000)\n",
        "print(samples.shape)\n",
        "print(sample_rate)\n",
        "\n",
        "fig = plt.figure(figsize=(10, 10))\n",
        "ax1 = fig.add_subplot(211)\n",
        "ax1.set_title('Raw wave of ' + audioPath+\"bed/0b09edd3_nohash_0.wav\")\n",
        "ax1.set_xlabel('time')\n",
        "ax1.set_ylabel('Amplitude')\n",
        "\n",
        "ax1.plot(np.linspace(0, sample_rate/len(samples), len(samples)), samples)"
      ],
      "execution_count": 0,
      "outputs": []
    },
    {
      "cell_type": "code",
      "metadata": {
        "id": "32YbmngvzPFK",
        "colab_type": "code",
        "colab": {}
      },
      "source": [
        "display(ipd.Audio(samples, rate=sample_rate))\n",
        "print(sample_rate)"
      ],
      "execution_count": 0,
      "outputs": []
    },
    {
      "cell_type": "code",
      "metadata": {
        "id": "Y9ZQ672uzmhq",
        "colab_type": "code",
        "colab": {}
      },
      "source": [
        "samples = librosa.resample(samples, sample_rate, 8000)\n",
        "ipd.Audio(samples, rate=8000)"
      ],
      "execution_count": 0,
      "outputs": []
    },
    {
      "cell_type": "code",
      "metadata": {
        "id": "d_Fm1wzoz6Dy",
        "colab_type": "code",
        "colab": {}
      },
      "source": [
        "labels = os.listdir(audioPath)\n",
        "labels = [x for x in labels if (\"_\" not in x and \".\" not in x)]\n",
        "labels.remove(\"LICENSE\")\n",
        "print(labels)"
      ],
      "execution_count": 0,
      "outputs": []
    },
    {
      "cell_type": "code",
      "metadata": {
        "id": "VotshBRWz6lw",
        "colab_type": "code",
        "colab": {}
      },
      "source": [
        "no_of_recordings = []\n",
        "for label in labels:\n",
        "    wav = [f for f in os.listdir(audioPath + label) if f.endswith(\".wav\")]\n",
        "    no_of_recordings.append(len(wav))\n",
        "    \n",
        "plt.figure(figsize=(15, 10))\n",
        "\n",
        "plt.bar(range(len(no_of_recordings)), no_of_recordings)\n",
        "plt.xticks(range(len(no_of_recordings)), labels, rotation=60)\n",
        "plt.show()\n",
        "\n"
      ],
      "execution_count": 0,
      "outputs": []
    },
    {
      "cell_type": "code",
      "metadata": {
        "id": "la1swYfQz6i9",
        "colab_type": "code",
        "colab": {}
      },
      "source": [
        "%%time\n",
        "# check the time of each clip\n",
        "train_path = audioPath\n",
        "# duration_of_recordings = []\n",
        "\n",
        "# for label in labels:\n",
        "#     wav = [f for f in os.listdir(train_path + label) if f.endswith(\".wav\")]\n",
        "#     for w in wav:\n",
        "#         samples, sample_rate = librosa.load(train_path + label + \"/\" + w)\n",
        "#         if sample_rate > 0 and len(samples) > 0:\n",
        "#             duration_of_recordings.append(float(len(samples))/sample_rate)\n",
        "#         if len(duration_of_recordings) > 1000:\n",
        "#             break\n",
        "        \n",
        "# # print(duration_of_recordings)\n",
        "            \n",
        "# plt.figure(figsize=(10, 10))\n",
        "# plt.hist(np.array(duration_of_recordings))\n"
      ],
      "execution_count": 0,
      "outputs": []
    },
    {
      "cell_type": "code",
      "metadata": {
        "id": "bJYjMcSWz6gV",
        "colab_type": "code",
        "colab": {}
      },
      "source": [
        "%%time\n",
        "\n",
        "all_wave = []\n",
        "all_label = []\n",
        "\n",
        "for label in labels:\n",
        "    print(label)\n",
        "    waves = [f for f in os.listdir(train_path + label) if f.endswith(\".wav\")]\n",
        "    count = 0\n",
        "    for w in waves:\n",
        "        samples, sample_rate = librosa.load(train_path + label + \"/\" + w, sr=16000)\n",
        "        samples = librosa.resample(samples, sample_rate, 8000)\n",
        "        if len(samples) == 8000:\n",
        "            all_wave.append(samples)\n",
        "            all_label.append(label)\n",
        "            count += 1\n",
        "        # if count == 500:\n",
        "        #     break\n",
        "    print(len(all_wave))"
      ],
      "execution_count": 0,
      "outputs": []
    },
    {
      "cell_type": "code",
      "metadata": {
        "id": "BJFWINKwHAxw",
        "colab_type": "code",
        "colab": {}
      },
      "source": [
        "\n",
        "from sklearn.preprocessing import LabelEncoder\n",
        "\n",
        "# le = LabelEncoder()\n",
        "# y = le.fit_transform(all_label)\n",
        "print(y)\n",
        "classes = list(le.classes_)\n",
        "print(classes)\n"
      ],
      "execution_count": 0,
      "outputs": []
    },
    {
      "cell_type": "code",
      "metadata": {
        "id": "F_70ZhljHA1V",
        "colab_type": "code",
        "colab": {}
      },
      "source": [
        "from keras.utils import np_utils\n",
        "print(y.shape)\n",
        "y = np_utils.to_categorical(y, num_classes=len(labels))\n",
        "print(y)\n",
        "print(y.shape)"
      ],
      "execution_count": 0,
      "outputs": []
    },
    {
      "cell_type": "code",
      "metadata": {
        "id": "Vth744svHAvf",
        "colab_type": "code",
        "colab": {}
      },
      "source": [
        "all_wave = np.array(all_wave).reshape(-1,8000,1)\n",
        "print(all_wave.shape)\n",
        "print(y.shape)\n",
        "\n"
      ],
      "execution_count": 0,
      "outputs": []
    },
    {
      "cell_type": "code",
      "metadata": {
        "id": "KS9ryHRKTe29",
        "colab_type": "code",
        "colab": {}
      },
      "source": [
        "%%time\n",
        "from sklearn.model_selection import train_test_split\n",
        "\n",
        "x_tr, x_val, y_tr, y_val = train_test_split(np.array(all_wave), np.array(y), \n",
        "                                            test_size=0.2, stratify=y, shuffle=True)"
      ],
      "execution_count": 0,
      "outputs": []
    },
    {
      "cell_type": "code",
      "metadata": {
        "id": "BHdF3RZbTfEo",
        "colab_type": "code",
        "colab": {}
      },
      "source": [
        "\n",
        "print(x_tr.shape)\n",
        "\n"
      ],
      "execution_count": 0,
      "outputs": []
    },
    {
      "cell_type": "code",
      "metadata": {
        "id": "jN4hnKWIMjSE",
        "colab_type": "code",
        "colab": {}
      },
      "source": [
        "# !mkdir \"/content/gdrive/My Drive/dataset/audio\"\n",
        "# !rm \"/content/gdrive/My Drive/dataset/audio/dataset.h5\"\n",
        "# h5file.close()"
      ],
      "execution_count": 0,
      "outputs": []
    },
    {
      "cell_type": "code",
      "metadata": {
        "id": "VhkhvH1vigZ_",
        "colab_type": "code",
        "colab": {}
      },
      "source": [
        "import tables\n",
        "\n",
        "h5file = tables.open_file(\"/content/gdrive/My Drive/dataset/audio/dataset3.h5\", \n",
        "                          mode=\"w\", title=\"audio data\")\n",
        "root = h5file.root\n",
        "gcol = h5file.create_group(h5file.root, \"columns\", \"train and test\")\n",
        "h5file.create_array(gcol, \"trainIn\", x_tr, \"train input features\")\n",
        "h5file.create_array(gcol, \"trainOut\", y_tr, \"train output\")\n",
        "h5file.create_array(gcol, \"testIn\", x_val, \"test input features\")\n",
        "h5file.create_array(gcol, \"testOut\", y_val, \"test output\")\n",
        "\n",
        "print(h5file)\n",
        "h5file.close()\n",
        "\n"
      ],
      "execution_count": 0,
      "outputs": []
    },
    {
      "cell_type": "code",
      "metadata": {
        "id": "cPk46PZAMU1d",
        "colab_type": "code",
        "colab": {}
      },
      "source": [
        "\n",
        "h5file = tables.open_file(\"/content/gdrive/My Drive/dataset/audio/dataset3.h5\", \n",
        "                          mode=\"a\")\n"
      ],
      "execution_count": 0,
      "outputs": []
    },
    {
      "cell_type": "code",
      "metadata": {
        "id": "2ZLexwiVdxqD",
        "colab_type": "code",
        "colab": {}
      },
      "source": [
        "\n",
        "# for nodes in h5file:\n",
        "#   print(nodes)\n",
        "\n",
        "# for group in h5file.walk_groups():\n",
        "#   print(group)\n",
        "\n",
        "data = {}\n",
        "for group in h5file.walk_groups():\n",
        "  for array in h5file.list_nodes(group, classname='Array'):\n",
        "    print(array)\n",
        "    data[array.name] = array.read()\n",
        "\n",
        "print(data.keys())\n",
        "h5file.close()"
      ],
      "execution_count": 0,
      "outputs": []
    },
    {
      "cell_type": "code",
      "metadata": {
        "id": "_9xh1_09d6t1",
        "colab_type": "code",
        "colab": {}
      },
      "source": [
        "# Build model\n",
        "\n",
        "from keras.layers import *\n",
        "from keras.models import Model, Sequential\n",
        "from keras.callbacks import EarlyStopping, ModelCheckpoint\n",
        "from keras import backend as k\n",
        "k.clear_session()\n",
        "\n",
        "# inp = Input(shape==(8000, 1))\n",
        "model = Sequential()\n",
        "\n",
        "model.add(Conv1D(8, 13, strides=1, activation='relu', input_shape=(8000, 1)))\n",
        "model.add(MaxPool1D(3))\n",
        "model.add(Dropout(0.3))\n",
        "\n",
        "model.add(Conv1D(16, 11, strides=1, activation='relu'))\n",
        "model.add(MaxPool1D(3))\n",
        "model.add(Dropout(0.3))\n",
        "\n",
        "model.add(Conv1D(32, 9, activation='relu', strides=1))\n",
        "model.add(MaxPool1D(3))\n",
        "model.add(Dropout(0.3))\n",
        "\n",
        "model.add(Conv1D(64, 7, strides=1, activation='relu'))\n",
        "model.add(MaxPool1D(3))\n",
        "model.add(Dropout(0.3))\n",
        "\n",
        "model.add(Flatten())\n",
        "\n",
        "model.add(Dense(256, activation='relu'))\n",
        "model.add(Dropout(0.3))\n",
        "\n",
        "model.add(Dense(128, activation='relu'))\n",
        "model.add(Dropout(0.3))\n",
        "\n",
        "model.add(Dense(len(labels), activation='softmax'))\n",
        "model.summary()\n",
        "\n"
      ],
      "execution_count": 0,
      "outputs": []
    },
    {
      "cell_type": "code",
      "metadata": {
        "id": "DEYxBsa-gE5x",
        "colab_type": "code",
        "colab": {}
      },
      "source": [
        "model.compile(loss='categorical_crossentropy', optimizer='adam', metrics=['accuracy'])"
      ],
      "execution_count": 0,
      "outputs": []
    },
    {
      "cell_type": "code",
      "metadata": {
        "id": "qCLiMInroict",
        "colab_type": "code",
        "colab": {}
      },
      "source": [
        "es = EarlyStopping(monitor='val_loss', mode='min', verbose=1, patience=10, min_delta=0.0001) \n",
        "mc = ModelCheckpoint('/content/gdrive/My Drive/dataset/best_model.hdf5', monitor='val_acc', \n",
        "                     verbose=1, save_best_only=True, mode='max')"
      ],
      "execution_count": 0,
      "outputs": []
    },
    {
      "cell_type": "code",
      "metadata": {
        "id": "hlLyDjirooTF",
        "colab_type": "code",
        "colab": {}
      },
      "source": [
        "# 17:48\n",
        "history=model.fit(data[\"trainIn\"], data[\"trainOut\"] ,epochs=100, callbacks=[es,mc], batch_size=32, \n",
        "                  validation_data=(data[\"testIn\"],data[\"testOut\"]))"
      ],
      "execution_count": 0,
      "outputs": []
    },
    {
      "cell_type": "code",
      "metadata": {
        "id": "KmFm4a3doveM",
        "colab_type": "code",
        "colab": {}
      },
      "source": [
        "print(history)\n",
        "plt.plot(history.history[\"loss\"], label=\"train\")\n",
        "plt.plot(history.history[\"val_loss\"], label=\"val\")\n",
        "plt.legend()\n",
        "plt.show()\n"
      ],
      "execution_count": 0,
      "outputs": []
    },
    {
      "cell_type": "code",
      "metadata": {
        "id": "kHBUDHufZSfp",
        "colab_type": "code",
        "colab": {}
      },
      "source": [
        "from datetime import datetime\n",
        "# time.strftime()\n",
        "datetime.now()"
      ],
      "execution_count": 0,
      "outputs": []
    },
    {
      "cell_type": "code",
      "metadata": {
        "id": "Rzlw4kYRqmCJ",
        "colab_type": "code",
        "colab": {}
      },
      "source": [
        "\n",
        "from keras.models import load_model\n",
        "\n",
        "model = load_model('/content/gdrive/My Drive/dataset/best_model.hdf5')\n"
      ],
      "execution_count": 0,
      "outputs": []
    },
    {
      "cell_type": "code",
      "metadata": {
        "id": "N-D7m628tF0V",
        "colab_type": "code",
        "colab": {}
      },
      "source": [
        "def predict(audio):\n",
        "  probs = model.predict(audio.reshape(1, 8000, 1))\n",
        "  index = np.argmax(probs)\n",
        "  return sorted(labels)[index]"
      ],
      "execution_count": 0,
      "outputs": []
    },
    {
      "cell_type": "code",
      "metadata": {
        "id": "J27Y6fLauOHv",
        "colab_type": "code",
        "colab": {}
      },
      "source": [
        "import random\n",
        "for i in range(10):\n",
        "  index = random.randint(0, len(data[\"testIn\"]-1))\n",
        "  samples = data[\"testIn\"][index].ravel()\n",
        "\n",
        "  print(\"Audio:\",sorted(labels)[np.argmax(data[\"testOut\"][index])])\n",
        "  display(ipd.Audio(samples, rate=8000))\n",
        "  print(\"Text:\",predict(samples))\n",
        "  print(\"============\")"
      ],
      "execution_count": 0,
      "outputs": []
    },
    {
      "cell_type": "code",
      "metadata": {
        "id": "75tJaj6ouRuC",
        "colab_type": "code",
        "colab": {}
      },
      "source": [
        "\n",
        "import sounddevice as sd\n",
        "import soundfile as sf\n",
        "\n",
        "samplerate = 16000  \n",
        "duration = 1 # seconds\n",
        "filename = 'yes.wav'\n",
        "print(\"start\")\n",
        "mydata = sd.rec(int(samplerate * duration), samplerate=samplerate,\n",
        "    channels=1, blocking=True)\n",
        "print(\"end\")\n",
        "sd.wait()\n",
        "sf.write(filename, mydata, samplerate)\n"
      ],
      "execution_count": 0,
      "outputs": []
    },
    {
      "cell_type": "code",
      "metadata": {
        "id": "APHlUFhr47He",
        "colab_type": "code",
        "colab": {}
      },
      "source": [
        "# !pip install sounddevice\n",
        "!sudo apt-get install libportaudio2"
      ],
      "execution_count": 0,
      "outputs": []
    },
    {
      "cell_type": "code",
      "metadata": {
        "id": "fvpKhhah5C6C",
        "colab_type": "code",
        "colab": {}
      },
      "source": [
        ""
      ],
      "execution_count": 0,
      "outputs": []
    }
  ]
}